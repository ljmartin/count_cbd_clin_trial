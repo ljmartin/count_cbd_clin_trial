{
 "cells": [
  {
   "cell_type": "code",
   "execution_count": 1,
   "metadata": {},
   "outputs": [],
   "source": [
    "import json\n",
    "import requests\n",
    "import pandas as pd\n",
    "import numpy as np"
   ]
  },
  {
   "cell_type": "markdown",
   "metadata": {},
   "source": [
    "# Fetch data using clinicaltrials.gov api:"
   ]
  },
  {
   "cell_type": "code",
   "execution_count": 2,
   "metadata": {},
   "outputs": [],
   "source": [
    "#base url:\n",
    "url = 'https://clinicaltrials.gov/api/query/study_fields?expr=cannabidiol'\n",
    "\n",
    "#fetch the data on these fields:\n",
    "fields = 'OverallStatus,NCTId,Condition,BriefTitle,BriefSummary,EnrollmentCount,InterventionName'\n",
    "\n",
    "#build the url, get up to 1000 records (that's the limit) in JSON format\n",
    "url += '&fields='+fields+'&max_rnk=1000&fmt=JSON'\n",
    "\n",
    "#make the query\n",
    "data = requests.get(url)\n",
    "\n",
    "#parse the json into a dict object:\n",
    "data_as_dict = json.loads(data.content)"
   ]
  },
  {
   "cell_type": "markdown",
   "metadata": {},
   "source": [
    "# Put into a dataframe:"
   ]
  },
  {
   "cell_type": "code",
   "execution_count": 3,
   "metadata": {},
   "outputs": [],
   "source": [
    "df = pd.DataFrame(columns=['Title', 'Status', 'Intervention', 'Enrolment', 'Condition', 'NCTId'])\n",
    "count=0\n",
    "for dct in data_as_dict['StudyFieldsResponse']['StudyFields']:\n",
    "\n",
    "    for condition in dct['Condition']:\n",
    "        for intervention in dct['InterventionName']:\n",
    "            #print('\\t', item)\n",
    "            try:\n",
    "                enrolment = int(dct['EnrollmentCount'][0])\n",
    "            except:\n",
    "                enrolment = 0\n",
    "            df.loc[count] = [dct['BriefTitle'][0], dct['OverallStatus'][0], intervention, \n",
    "                         enrolment, condition, dct['NCTId'][0]]\n",
    "            count+=1"
   ]
  },
  {
   "cell_type": "code",
   "execution_count": 4,
   "metadata": {},
   "outputs": [
    {
     "data": {
      "text/html": [
       "<div>\n",
       "<style scoped>\n",
       "    .dataframe tbody tr th:only-of-type {\n",
       "        vertical-align: middle;\n",
       "    }\n",
       "\n",
       "    .dataframe tbody tr th {\n",
       "        vertical-align: top;\n",
       "    }\n",
       "\n",
       "    .dataframe thead th {\n",
       "        text-align: right;\n",
       "    }\n",
       "</style>\n",
       "<table border=\"1\" class=\"dataframe\">\n",
       "  <thead>\n",
       "    <tr style=\"text-align: right;\">\n",
       "      <th></th>\n",
       "      <th>Title</th>\n",
       "      <th>Status</th>\n",
       "      <th>Intervention</th>\n",
       "      <th>Enrolment</th>\n",
       "      <th>Condition</th>\n",
       "      <th>NCTId</th>\n",
       "    </tr>\n",
       "  </thead>\n",
       "  <tbody>\n",
       "    <tr>\n",
       "      <th>0</th>\n",
       "      <td>Cannabidiol Use to Reduce Cravings in Individu...</td>\n",
       "      <td>Recruiting</td>\n",
       "      <td>Cannabidiol 600mg</td>\n",
       "      <td>12</td>\n",
       "      <td>Opioid-use Disorder</td>\n",
       "      <td>NCT04192370</td>\n",
       "    </tr>\n",
       "    <tr>\n",
       "      <th>1</th>\n",
       "      <td>Cannabidiol Pharmacotherapy for Adults With Ca...</td>\n",
       "      <td>Completed</td>\n",
       "      <td>Cannabidiol</td>\n",
       "      <td>10</td>\n",
       "      <td>Cannabis Use Disorder</td>\n",
       "      <td>NCT03102918</td>\n",
       "    </tr>\n",
       "    <tr>\n",
       "      <th>2</th>\n",
       "      <td>Cannabidiol Pharmacotherapy for Adults With Ca...</td>\n",
       "      <td>Completed</td>\n",
       "      <td>Placebo</td>\n",
       "      <td>10</td>\n",
       "      <td>Cannabis Use Disorder</td>\n",
       "      <td>NCT03102918</td>\n",
       "    </tr>\n",
       "    <tr>\n",
       "      <th>3</th>\n",
       "      <td>Low Dose of Cannabidiol (CBD) to Treat Mild to...</td>\n",
       "      <td>Completed</td>\n",
       "      <td>Cannabidiol (CBD)</td>\n",
       "      <td>16</td>\n",
       "      <td>Musculoskeletal Pain</td>\n",
       "      <td>NCT04193631</td>\n",
       "    </tr>\n",
       "    <tr>\n",
       "      <th>4</th>\n",
       "      <td>Trial of Cannabidiol to Treat Severe Behavior ...</td>\n",
       "      <td>Recruiting</td>\n",
       "      <td>Epidiolex</td>\n",
       "      <td>30</td>\n",
       "      <td>Autism</td>\n",
       "      <td>NCT04517799</td>\n",
       "    </tr>\n",
       "  </tbody>\n",
       "</table>\n",
       "</div>"
      ],
      "text/plain": [
       "                                               Title      Status  \\\n",
       "0  Cannabidiol Use to Reduce Cravings in Individu...  Recruiting   \n",
       "1  Cannabidiol Pharmacotherapy for Adults With Ca...   Completed   \n",
       "2  Cannabidiol Pharmacotherapy for Adults With Ca...   Completed   \n",
       "3  Low Dose of Cannabidiol (CBD) to Treat Mild to...   Completed   \n",
       "4  Trial of Cannabidiol to Treat Severe Behavior ...  Recruiting   \n",
       "\n",
       "        Intervention Enrolment              Condition        NCTId  \n",
       "0  Cannabidiol 600mg        12    Opioid-use Disorder  NCT04192370  \n",
       "1        Cannabidiol        10  Cannabis Use Disorder  NCT03102918  \n",
       "2            Placebo        10  Cannabis Use Disorder  NCT03102918  \n",
       "3  Cannabidiol (CBD)        16   Musculoskeletal Pain  NCT04193631  \n",
       "4          Epidiolex        30                 Autism  NCT04517799  "
      ]
     },
     "execution_count": 4,
     "metadata": {},
     "output_type": "execute_result"
    }
   ],
   "source": [
    "df.head()"
   ]
  },
  {
   "cell_type": "markdown",
   "metadata": {},
   "source": [
    "# Plot with altair:"
   ]
  },
  {
   "cell_type": "code",
   "execution_count": 5,
   "metadata": {
    "scrolled": false
   },
   "outputs": [
    {
     "data": {
      "text/html": [
       "\n",
       "<div id=\"altair-viz-f31d40c2c4fe4ec7945d84014daf0b95\"></div>\n",
       "<script type=\"text/javascript\">\n",
       "  (function(spec, embedOpt){\n",
       "    let outputDiv = document.currentScript.previousElementSibling;\n",
       "    if (outputDiv.id !== \"altair-viz-f31d40c2c4fe4ec7945d84014daf0b95\") {\n",
       "      outputDiv = document.getElementById(\"altair-viz-f31d40c2c4fe4ec7945d84014daf0b95\");\n",
       "    }\n",
       "    const paths = {\n",
       "      \"vega\": \"https://cdn.jsdelivr.net/npm//vega@5?noext\",\n",
       "      \"vega-lib\": \"https://cdn.jsdelivr.net/npm//vega-lib?noext\",\n",
       "      \"vega-lite\": \"https://cdn.jsdelivr.net/npm//vega-lite@4.8.1?noext\",\n",
       "      \"vega-embed\": \"https://cdn.jsdelivr.net/npm//vega-embed@6?noext\",\n",
       "    };\n",
       "\n",
       "    function loadScript(lib) {\n",
       "      return new Promise(function(resolve, reject) {\n",
       "        var s = document.createElement('script');\n",
       "        s.src = paths[lib];\n",
       "        s.async = true;\n",
       "        s.onload = () => resolve(paths[lib]);\n",
       "        s.onerror = () => reject(`Error loading script: ${paths[lib]}`);\n",
       "        document.getElementsByTagName(\"head\")[0].appendChild(s);\n",
       "      });\n",
       "    }\n",
       "\n",
       "    function showError(err) {\n",
       "      outputDiv.innerHTML = `<div class=\"error\" style=\"color:red;\">${err}</div>`;\n",
       "      throw err;\n",
       "    }\n",
       "\n",
       "    function displayChart(vegaEmbed) {\n",
       "      vegaEmbed(outputDiv, spec, embedOpt)\n",
       "        .catch(err => showError(`Javascript Error: ${err.message}<br>This usually means there's a typo in your chart specification. See the javascript console for the full traceback.`));\n",
       "    }\n",
       "\n",
       "    if(typeof define === \"function\" && define.amd) {\n",
       "      requirejs.config({paths});\n",
       "      require([\"vega-embed\"], displayChart, err => showError(`Error loading script: ${err.message}`));\n",
       "    } else if (typeof vegaEmbed === \"function\") {\n",
       "      displayChart(vegaEmbed);\n",
       "    } else {\n",
       "      loadScript(\"vega\")\n",
       "        .then(() => loadScript(\"vega-lite\"))\n",
       "        .then(() => loadScript(\"vega-embed\"))\n",
       "        .catch(showError)\n",
       "        .then(() => displayChart(vegaEmbed));\n",
       "    }\n",
       "  })({\"config\": {\"view\": {\"continuousWidth\": 400, \"continuousHeight\": 300}}, \"data\": {\"name\": \"data-b8dd594f15c900d7cb3f47d59b88ceac\"}, \"mark\": \"bar\", \"encoding\": {\"x\": {\"type\": \"quantitative\", \"aggregate\": \"count\", \"field\": \"Condition\"}, \"y\": {\"type\": \"ordinal\", \"field\": \"Condition\", \"sort\": \"-x\"}}, \"height\": 1500, \"title\": \"Number of conditions investigated for CBD\", \"$schema\": \"https://vega.github.io/schema/vega-lite/v4.8.1.json\", \"datasets\": {\"data-b8dd594f15c900d7cb3f47d59b88ceac\": [{\"Condition\": \"Opioid-use Disorder\"}, {\"Condition\": \"Cannabis Use Disorder\"}, {\"Condition\": \"Musculoskeletal Pain\"}, {\"Condition\": \"Autism\"}, {\"Condition\": \"Autism Spectrum Disorder\"}, {\"Condition\": \"Graft Versus Host Disease\"}, {\"Condition\": \"Alcohol Use Disorder\"}, {\"Condition\": \"Autoimmune Hepatitis\"}, {\"Condition\": \"Anxiety\"}, {\"Condition\": \"Contraception\"}, {\"Condition\": \"Sturge-Weber Syndrome\"}, {\"Condition\": \"Graft Versus Host Disease\"}, {\"Condition\": \"Heart Failure\"}, {\"Condition\": \"Bipolar Disorder\"}, {\"Condition\": \"Bipolar Depression\"}, {\"Condition\": \"Bipolar Affective Disorder\"}, {\"Condition\": \"Seizures\"}, {\"Condition\": \"Crohn's Disease\"}, {\"Condition\": \"Ulcerative Colitis\"}, {\"Condition\": \"Chronic Pain\"}, {\"Condition\": \"Opioid Withdrawal\"}, {\"Condition\": \"Opioid Craving\"}, {\"Condition\": \"Opioid Use Disorder\"}, {\"Condition\": \"Alcohol Use Disorder\"}, {\"Condition\": \"Post Traumatic Stress Disorder\"}, {\"Condition\": \"Childhood Absence Epilepsy\"}, {\"Condition\": \"Childhood Absence Epilepsy\"}, {\"Condition\": \"Cannabidiol Pharmacokinetics\"}, {\"Condition\": \"Epilepsy\"}, {\"Condition\": \"Opiate Addiction\"}, {\"Condition\": \"Early Psychosis\"}, {\"Condition\": \"Sturge-Weber Syndrome\"}, {\"Condition\": \"Parkinson's Disease\"}, {\"Condition\": \"Epilepsy\"}, {\"Condition\": \"Prader-Willi Syndrome\"}, {\"Condition\": \"Dual Diagnosis\"}, {\"Condition\": \"Gastroparesis\"}, {\"Condition\": \"Dyspepsia\"}, {\"Condition\": \"SARS-CoV2\"}, {\"Condition\": \"Covid19\"}, {\"Condition\": \"Burn Out\"}, {\"Condition\": \"Post Traumatic Stress Disorder\"}, {\"Condition\": \"Spasms, Infantile\"}, {\"Condition\": \"Dravet Syndrome\"}, {\"Condition\": \"Lennox-Gastaut Syndrome\"}, {\"Condition\": \"Steroid Dependent Crohn's Disease\"}, {\"Condition\": \"Alcohol Withdrawal\"}, {\"Condition\": \"Alcohol Dependence\"}, {\"Condition\": \"Drug Resistant Epilepsy\"}, {\"Condition\": \"Opiate Addiction\"}, {\"Condition\": \"Drug Resistant Epilepsy\"}, {\"Condition\": \"Prader-Willi Syndrome\"}, {\"Condition\": \"Drug Addiction\"}, {\"Condition\": \"Alcohol Use Disorder\"}, {\"Condition\": \"Refractory Childhood Epilepsy\"}, {\"Condition\": \"Pharmacokinetics, Bioavailability\"}, {\"Condition\": \"Back Pain, Low\"}, {\"Condition\": \"Substance Use Disorder\"}, {\"Condition\": \"Cocaine Dependence\"}, {\"Condition\": \"Withdrawal From Addictive Substance; Detoxification\"}, {\"Condition\": \"Interstitial Cystitis\"}, {\"Condition\": \"Bladder Pain Syndrome\"}, {\"Condition\": \"Generalized Anxiety Disorder\"}, {\"Condition\": \"Social Anxiety Disorder\"}, {\"Condition\": \"Panic Disorder\"}, {\"Condition\": \"Agoraphobia\"}, {\"Condition\": \"Opioid-use Disorder\"}, {\"Condition\": \"Pain\"}, {\"Condition\": \"Epilepsy\"}, {\"Condition\": \"Seizures\"}, {\"Condition\": \"Smoking, Marijuana\"}, {\"Condition\": \"Refractory Epilepsy\"}, {\"Condition\": \"Epilepsy\"}, {\"Condition\": \"Crohn Disease\"}, {\"Condition\": \"Inflammatory Bowel Diseases\"}, {\"Condition\": \"Cannabis\"}, {\"Condition\": \"Schizophrenia\"}, {\"Condition\": \"Psychotic Disorders\"}, {\"Condition\": \"Anxiety\"}, {\"Condition\": \"Infantile Spasm\"}, {\"Condition\": \"PTSD\"}, {\"Condition\": \"Schizophrenia Spectrum Disorders\"}, {\"Condition\": \"Cannabis Use\"}, {\"Condition\": \"Schizophrenia\"}, {\"Condition\": \"Epilepsy\"}, {\"Condition\": \"Chronic Pain, Widespread\"}, {\"Condition\": \"Acute-graft-versus-host Disease\"}, {\"Condition\": \"Cannabis Use Disorder\"}, {\"Condition\": \"Rett Syndrome\"}, {\"Condition\": \"RTT\"}, {\"Condition\": \"Pain, Acute\"}, {\"Condition\": \"Lennox-Gastaut Syndrome\"}, {\"Condition\": \"Dravet Syndrome\"}, {\"Condition\": \"Infantile Spasms\"}, {\"Condition\": \"Advanced Breast Cancer\"}, {\"Condition\": \"Anxiety\"}, {\"Condition\": \"CBD\"}, {\"Condition\": \"Infantile Spasms\"}, {\"Condition\": \"Rett Syndrome\"}, {\"Condition\": \"RTT\"}, {\"Condition\": \"Blepharospasm\"}, {\"Condition\": \"Blepharospasm, Benign Essential\"}, {\"Condition\": \"CBD\"}, {\"Condition\": \"Epilepsy\"}, {\"Condition\": \"Dravet Syndrome\"}, {\"Condition\": \"Schizophrenia\"}, {\"Condition\": \"Cannabis Use Disorder\"}, {\"Condition\": \"Parkinson Disease\"}, {\"Condition\": \"Prostate Cancer Recurrent\"}, {\"Condition\": \"Prostate Cancer\"}, {\"Condition\": \"Prostate Adenocarcinoma\"}, {\"Condition\": \"Urinary Stone\"}, {\"Condition\": \"Graft vs Host Disease\"}, {\"Condition\": \"Epilepsy\"}, {\"Condition\": \"Lennox-Gastaut Syndrome\"}, {\"Condition\": \"Schizophrenia\"}, {\"Condition\": \"Schizoaffective Disorder\"}, {\"Condition\": \"Schizophrenia\"}, {\"Condition\": \"Epilepsy\"}, {\"Condition\": \"Dravet Syndrome\"}, {\"Condition\": \"Lennox-Gastaut Syndrome\"}, {\"Condition\": \"Schizophrenia\"}, {\"Condition\": \"Schizoaffective Disorder\"}, {\"Condition\": \"Autism Spectrum Disorder\"}, {\"Condition\": \"Lennox-Gastaut Syndrome\"}, {\"Condition\": \"Schizophrenia\"}, {\"Condition\": \"Endometriosis\"}, {\"Condition\": \"CBD\"}, {\"Condition\": \"Pelvic Pain\"}, {\"Condition\": \"Epilepsy\"}, {\"Condition\": \"Chronic Pain\"}, {\"Condition\": \"Healthy Participants\"}, {\"Condition\": \"Diet Modification\"}, {\"Condition\": \"Pain Sensation\"}, {\"Condition\": \"Hyperalgesia\"}, {\"Condition\": \"Allodynia\"}, {\"Condition\": \"Tuberous Sclerosis Complex\"}, {\"Condition\": \"Seizures\"}, {\"Condition\": \"ASD\"}, {\"Condition\": \"Autism Spectrum Disorder\"}, {\"Condition\": \"Seizure in Participants With Tuberous Sclerosis Complex\"}, {\"Condition\": \"Tuberous Sclerosis Complex\"}, {\"Condition\": \"Seizures\"}, {\"Condition\": \"Acute Nociceptive Pain\"}, {\"Condition\": \"Hyperalgesia\"}, {\"Condition\": \"Allodynia\"}, {\"Condition\": \"Opioid-induced Hyperalgesia\"}, {\"Condition\": \"Healthy Humans\"}, {\"Condition\": \"Cannabis, Drug Effects\"}, {\"Condition\": \"Pain\"}, {\"Condition\": \"Healthy\"}, {\"Condition\": \"Epileptic Encephalopathy\"}, {\"Condition\": \"CBD\"}, {\"Condition\": \"Chronic Pain\"}, {\"Condition\": \"Epilepsy\"}, {\"Condition\": \"Dravet Syndrome\"}, {\"Condition\": \"Epilepsy\"}, {\"Condition\": \"Post Traumatic Stress Disorder\"}, {\"Condition\": \"Epilepsy\"}, {\"Condition\": \"Seizures\"}, {\"Condition\": \"Epilepsy\"}, {\"Condition\": \"Seizures\"}, {\"Condition\": \"Epilepsy Intractable\"}, {\"Condition\": \"Epilepsy\"}, {\"Condition\": \"Epilepsy\"}, {\"Condition\": \"Substance-Related Disorders\"}, {\"Condition\": \"Knee Osteoarthritis\"}, {\"Condition\": \"Prevention aGVHD\"}, {\"Condition\": \"Alzheimer Disease\"}, {\"Condition\": \"Anxiety\"}, {\"Condition\": \"Agitation,Psychomotor\"}, {\"Condition\": \"Epilepsy\"}, {\"Condition\": \"Healthy Volunteers\"}, {\"Condition\": \"Pain\"}, {\"Condition\": \"Epilepsy\"}, {\"Condition\": \"Lennox Gastaut Syndrome\"}, {\"Condition\": \"Anxiety\"}, {\"Condition\": \"Irritable Bowel Syndrome\"}, {\"Condition\": \"Solid Tumor\"}, {\"Condition\": \"Cosmetic Acne\"}, {\"Condition\": \"Schizophrenia\"}, {\"Condition\": \"Healthy Volunteers\"}, {\"Condition\": \"Modeling Psychosis\"}, {\"Condition\": \"Cancer of Pancreas\"}, {\"Condition\": \"Cancer of Liver\"}, {\"Condition\": \"Cancer of Rectum\"}, {\"Condition\": \"Cancer of Colon\"}, {\"Condition\": \"Cancer, Gall Bladder\"}, {\"Condition\": \"Myeloma Multiple\"}, {\"Condition\": \"Glioblastoma Multiforme\"}, {\"Condition\": \"Epilepsy\"}, {\"Condition\": \"Dravet Syndrome\"}, {\"Condition\": \"Fragile X Syndrome\"}, {\"Condition\": \"Opiate Addiction\"}, {\"Condition\": \"Psoriatic Arthritis\"}, {\"Condition\": \"Hand Osteoarthritis\"}, {\"Condition\": \"Fatty Liver\"}, {\"Condition\": \"Diabetic Neuropathies\"}, {\"Condition\": \"Cosmetics; Eczema\"}, {\"Condition\": \"Autism Spectrum Disorder\"}, {\"Condition\": \"Cannabis Use Disorder\"}, {\"Condition\": \"Hallux Valgus\"}, {\"Condition\": \"Hallux Rigidus\"}, {\"Condition\": \"Chronic Spontaneous Urticaria\"}, {\"Condition\": \"Fragile X Syndrome\"}, {\"Condition\": \"Pain\"}, {\"Condition\": \"Healthy\"}, {\"Condition\": \"Modeling Psychosis\"}, {\"Condition\": \"Bipolar Disorder\"}, {\"Condition\": \"Epilepsy\"}, {\"Condition\": \"Healthy Volunteers\"}, {\"Condition\": \"CBD\"}, {\"Condition\": \"Healthy\"}, {\"Condition\": \"Schizophrenia\"}, {\"Condition\": \"Schizophrenia-related Psychotic Disorder\"}, {\"Condition\": \"Hepatic Impairment\"}, {\"Condition\": \"Schizophrenia\"}, {\"Condition\": \"Healthy Volunteers\"}, {\"Condition\": \"Addiction\"}, {\"Condition\": \"Opioid Dependence\"}, {\"Condition\": \"Opioid Withdrawal\"}, {\"Condition\": \"Pain\"}, {\"Condition\": \"Nausea\"}, {\"Condition\": \"Anxiety\"}, {\"Condition\": \"Sleep Disturbance\"}, {\"Condition\": \"Cannabis Dependence\"}, {\"Condition\": \"Autistic Disorder\"}, {\"Condition\": \"Huntington's Disease\"}, {\"Condition\": \"Traumatic Brain Injury\"}, {\"Condition\": \"Pain Management in Terminally Ill Patients Receiving Scheduled Opioid Therapy\"}, {\"Condition\": \"Retinitis Pigmentosa\"}, {\"Condition\": \"Retinal Degeneration\"}, {\"Condition\": \"Cannabis\"}, {\"Condition\": \"Drug Resistant Epilepsy\"}, {\"Condition\": \"Multiple Sclerosis\"}, {\"Condition\": \"Multiple Sclerosis\"}, {\"Condition\": \"Spasticity\"}, {\"Condition\": \"Multiple Sclerosis\"}, {\"Condition\": \"Healthy Volonteers\"}, {\"Condition\": \"Multiple Sclerosis\"}, {\"Condition\": \"Schizophrenia\"}, {\"Condition\": \"Sensory Science\"}, {\"Condition\": \"Ulcerative Colitis\"}, {\"Condition\": \"Essential Tremor\"}, {\"Condition\": \"Glioblastoma\"}, {\"Condition\": \"Dravet Syndrome\"}, {\"Condition\": \"Lennox Gastaut Syndrome\"}, {\"Condition\": \"Cannabis Dependence\"}, {\"Condition\": \"Arthroplasty, Replacement, Knee\"}, {\"Condition\": \"Dysmenorrhea\"}, {\"Condition\": \"Headache, Migraine\"}, {\"Condition\": \"Fatigue\"}, {\"Condition\": \"Nausea\"}, {\"Condition\": \"Mood Disturbance\"}, {\"Condition\": \"Posttraumatic Stress Disorder\"}, {\"Condition\": \"Dyslipidemias\"}, {\"Condition\": \"Diabetes Mellitus, Type 2\"}, {\"Condition\": \"Social Anxiety Disorder\"}, {\"Condition\": \"Chronic Non-cancer Pain\"}, {\"Condition\": \"Knee Osteoarthritis\"}, {\"Condition\": \"CBD\"}, {\"Condition\": \"Osteoarthritis\"}, {\"Condition\": \"Resistant Epilepsy, Drug\"}, {\"Condition\": \"Adolescent Epilepsy\"}, {\"Condition\": \"Children Epilepsy\"}, {\"Condition\": \"Children and Adolescents With Resistant Epilepsies\"}, {\"Condition\": \"Alzheimer Disease\"}, {\"Condition\": \"Dementia\"}, {\"Condition\": \"Major Neurocognitive Disorder With Aggressive Behavior\"}, {\"Condition\": \"Pain, Postoperative\"}, {\"Condition\": \"Postoperative Nausea and Vomiting\"}, {\"Condition\": \"Anxiety\"}, {\"Condition\": \"Pain\"}, {\"Condition\": \"Multiple Sclerosis\"}, {\"Condition\": \"Detrusor Overactivity\"}, {\"Condition\": \"Multiple Sclerosis\"}, {\"Condition\": \"Pain, Chronic\"}, {\"Condition\": \"Acne Vulgaris\"}, {\"Condition\": \"Spasticity\"}, {\"Condition\": \"Multiple Sclerosis\"}, {\"Condition\": \"Epilepsy\"}, {\"Condition\": \"Chemotherapy-induced Peripheral Neuropathy\"}, {\"Condition\": \"Colorectal Cancer Stage II\"}, {\"Condition\": \"Colorectal Cancer Stage III\"}, {\"Condition\": \"Breast Cancer\"}, {\"Condition\": \"Ovarian Cancer\"}, {\"Condition\": \"Uterine Cancer\"}, {\"Condition\": \"Advanced Cancer\"}, {\"Condition\": \"Autism\"}, {\"Condition\": \"ASD\"}, {\"Condition\": \"Lung Cancer\"}, {\"Condition\": \"Chronic Pain\"}, {\"Condition\": \"Palliative Care\"}, {\"Condition\": \"Pain\"}, {\"Condition\": \"Cancer\"}, {\"Condition\": \"Osteoarthritis, Knee\"}, {\"Condition\": \"TMJ Disorder\"}, {\"Condition\": \"Myofacial Pain\"}, {\"Condition\": \"TMD\"}, {\"Condition\": \"To Provide Further Information About the Potential Need for Sativex Dose Adjustments in Patient Populations.\"}, {\"Condition\": \"Healthy Subjects\"}, {\"Condition\": \"Multiple Sclerosis\"}, {\"Condition\": \"Diabetes\"}, {\"Condition\": \"Cancer\"}, {\"Condition\": \"Neuropathic Pain\"}, {\"Condition\": \"Cannabis\"}, {\"Condition\": \"HIV Neuropathy\"}, {\"Condition\": \"Pain Syndrome\"}, {\"Condition\": \"HIV Infections\"}, {\"Condition\": \"Head and Neck Squamous Cell Carcinoma\"}, {\"Condition\": \"Driving Under the Influence\"}, {\"Condition\": \"Marijuana Intoxication\"}, {\"Condition\": \"Alcohol Intoxication\"}, {\"Condition\": \"Bipolar Affective Disorder\"}, {\"Condition\": \"Chronic Pain\"}, {\"Condition\": \"Chronic Low Back Pain\"}, {\"Condition\": \"Cannabis Use\"}, {\"Condition\": \"Fibromyalgia\"}, {\"Condition\": \"Cannabis\"}, {\"Condition\": \"Parkinson Disease\"}, {\"Condition\": \"Glioblastoma\"}, {\"Condition\": \"Tourette Syndrome\"}, {\"Condition\": \"Protein-Energy Malnutrition\"}, {\"Condition\": \"Hemodialysis\"}, {\"Condition\": \"Appetite Disorders\"}, {\"Condition\": \"Cannabis\"}, {\"Condition\": \"Dependence\"}, {\"Condition\": \"Cannabis Abuse\"}, {\"Condition\": \"Pharmacokinetics\"}, {\"Condition\": \"fMRI\"}, {\"Condition\": \"Rehabilitation\"}, {\"Condition\": \"Migraine\"}, {\"Condition\": \"Cannabis\"}, {\"Condition\": \"THC\"}, {\"Condition\": \"CBD\"}, {\"Condition\": \"Endometriosis\"}, {\"Condition\": \"Atopic Dermatitis\"}, {\"Condition\": \"Attention Deficit Hyperactivity Disorder (ADHD)\"}, {\"Condition\": \"Chronic Obstructive Pulmonary Disease (COPD)\"}, {\"Condition\": \"Breathlessness\"}, {\"Condition\": \"Exercise Intolerance\"}, {\"Condition\": \"Cancer\"}, {\"Condition\": \"Multiple Sclerosis\"}, {\"Condition\": \"Spasticity\"}, {\"Condition\": \"Pain\"}, {\"Condition\": \"Pain\"}, {\"Condition\": \"Advanced Cancer\"}, {\"Condition\": \"Healthy\"}, {\"Condition\": \"Schizophrenia\"}, {\"Condition\": \"Multiple Sclerosis\"}, {\"Condition\": \"Tourette Syndrome\"}, {\"Condition\": \"Tic Disorders\"}, {\"Condition\": \"Spasticity\"}, {\"Condition\": \"Multiple Sclerosis\"}, {\"Condition\": \"Multiple Sclerosis\"}, {\"Condition\": \"Cancer\"}, {\"Condition\": \"Cerebral Palsy\"}, {\"Condition\": \"Multiple Sclerosis\"}, {\"Condition\": \"Spasticity\"}, {\"Condition\": \"Multiple Sclerosis\"}, {\"Condition\": \"Pain\"}, {\"Condition\": \"Cancer\"}, {\"Condition\": \"Pain\"}, {\"Condition\": \"Abuse, Drug\"}, {\"Condition\": \"Pain\"}, {\"Condition\": \"Multiple Sclerosis (MS)\"}, {\"Condition\": \"Metastatic Prostate Cancer\"}, {\"Condition\": \"Lung Cancer\"}, {\"Condition\": \"Breast Cancer\"}, {\"Condition\": \"Multiple Sclerosis\"}, {\"Condition\": \"Neuropathic Pain\"}, {\"Condition\": \"Agitation Related to Dementia\"}, {\"Condition\": \"Hidradenitis Suppurativa\"}, {\"Condition\": \"Multiple Sclerosis\"}, {\"Condition\": \"Spasticity\"}, {\"Condition\": \"Pain\"}, {\"Condition\": \"Advanced Cancer\"}, {\"Condition\": \"Pain\"}, {\"Condition\": \"Advanced Cancer\"}, {\"Condition\": \"Pain\"}, {\"Condition\": \"Advanced Cancer\"}, {\"Condition\": \"Healthy Volunteers\"}, {\"Condition\": \"Healthy Subjects\"}, {\"Condition\": \"Pain\"}, {\"Condition\": \"Palliative Care\"}, {\"Condition\": \"Pain\"}, {\"Condition\": \"Cancer\"}, {\"Condition\": \"Cannabis Intoxication\"}, {\"Condition\": \"Chronic Pain\"}, {\"Condition\": \"Chronic Pain Syndrome\"}, {\"Condition\": \"Chronic Pain Due to Injury\"}, {\"Condition\": \"Chronic Pain Due to Trauma\"}, {\"Condition\": \"Fibromyalgia\"}, {\"Condition\": \"Seizures\"}, {\"Condition\": \"Hepatitis C\"}, {\"Condition\": \"Cancer\"}, {\"Condition\": \"Crohn Disease\"}, {\"Condition\": \"HIV/AIDS\"}, {\"Condition\": \"Multiple Sclerosis\"}, {\"Condition\": \"Traumatic Brain Injury\"}, {\"Condition\": \"Sickle Cell Disease\"}, {\"Condition\": \"Post Traumatic Stress Disorder\"}, {\"Condition\": \"Tourette Syndrome\"}, {\"Condition\": \"Ulcerative Colitis\"}, {\"Condition\": \"Glaucoma\"}, {\"Condition\": \"Epilepsy\"}, {\"Condition\": \"Inflammatory Bowel Diseases\"}, {\"Condition\": \"Parkinson Disease\"}, {\"Condition\": \"Amyotrophic Lateral Sclerosis\"}, {\"Condition\": \"Chronic Traumatic Encephalopathy\"}, {\"Condition\": \"Anxiety\"}, {\"Condition\": \"Depression\"}, {\"Condition\": \"Insomnia\"}, {\"Condition\": \"Autism\"}, {\"Condition\": \"Opioid-use Disorder\"}, {\"Condition\": \"Bipolar Disorder\"}, {\"Condition\": \"Covid19\"}, {\"Condition\": \"SARS-CoV Infection\"}, {\"Condition\": \"COVID-19\"}, {\"Condition\": \"Corona Virus Infection\"}, {\"Condition\": \"Coronavirus\"}, {\"Condition\": \"Osteoarthritis, Knee\"}, {\"Condition\": \"Pain\"}]}}, {\"mode\": \"vega-lite\"});\n",
       "</script>"
      ],
      "text/plain": [
       "alt.Chart(...)"
      ]
     },
     "execution_count": 5,
     "metadata": {},
     "output_type": "execute_result"
    }
   ],
   "source": [
    "import altair as alt\n",
    "\n",
    "chart = alt.Chart(pd.DataFrame(df.drop_duplicates(['NCTId', 'Condition'])['Condition'])).mark_bar().encode(\n",
    "    alt.Y('Condition:O', sort='-x'),\n",
    "    alt.X('count(Condition):Q')\n",
    ")\n",
    "\n",
    "chart.properties(\n",
    "    title='Number of conditions investigated for CBD',\n",
    "    height=1500\n",
    ")"
   ]
  }
 ],
 "metadata": {
  "kernelspec": {
   "display_name": "Python 3",
   "language": "python",
   "name": "python3"
  },
  "language_info": {
   "codemirror_mode": {
    "name": "ipython",
    "version": 3
   },
   "file_extension": ".py",
   "mimetype": "text/x-python",
   "name": "python",
   "nbconvert_exporter": "python",
   "pygments_lexer": "ipython3",
   "version": "3.7.8"
  }
 },
 "nbformat": 4,
 "nbformat_minor": 4
}
